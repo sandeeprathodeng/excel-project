{
 "cells": [
  {
   "cell_type": "raw",
   "id": "c1df2e9b-9eb6-4996-98b9-61aa8ac25eae",
   "metadata": {},
   "source": [
    "Q1. Create one variable containing following type of data:\n",
    "(i) string\n",
    "(ii) list\n",
    "(iii) float\n",
    "(iv) tuple"
   ]
  },
  {
   "cell_type": "code",
   "execution_count": 50,
   "id": "f6f1050f-a1b2-4a37-8a4c-6a4d6070f713",
   "metadata": {},
   "outputs": [],
   "source": [
    "one=\"sandeep\"\n",
    "two=[\"jio\",15,True,False,15.65]\n",
    "three=15.56\n",
    "four=(\"name\",15,45.25,True)"
   ]
  },
  {
   "cell_type": "raw",
   "id": "1e606868-df6e-40f8-84f6-1c811b1bde88",
   "metadata": {},
   "source": [
    "Q2. Given are some following variables containing data:\n",
    "(i) var1 = ‘ ‘\n",
    "(ii) var2 = ‘[ DS , ML , Python]’\n",
    "(iii) var3 = [ ‘DS’ , ’ML’ , ‘Python’ ]\n",
    "(iv) var4 = 1.\n",
    "What will be the data type of the above given variable."
   ]
  },
  {
   "cell_type": "code",
   "execution_count": 51,
   "id": "2a3b2e81-483d-4223-8765-5c0bafcc6216",
   "metadata": {},
   "outputs": [],
   "source": [
    "var4 = 1.\n",
    "# only one variable is correct and data type is float "
   ]
  },
  {
   "cell_type": "raw",
   "id": "680f93df-516a-4eb0-9765-1f20bb997d93",
   "metadata": {},
   "source": [
    "Q3. Explain the use of the following operators using an example:\n",
    "\n",
    "(i)\t/\n",
    "\n",
    "(ii)\t% \n",
    "\n",
    "(iii)\t//\n",
    "\n",
    "(iv)\t*"
   ]
  },
  {
   "cell_type": "markdown",
   "id": "ed880860-d019-495f-9542-9d0fd902ce20",
   "metadata": {},
   "source": [
    "1. / Division"
   ]
  },
  {
   "cell_type": "code",
   "execution_count": 53,
   "id": "40b6a785-50b4-4121-b0e9-d80e5cbbfb1b",
   "metadata": {},
   "outputs": [],
   "source": [
    "a=10\n",
    "b=5\n",
    "c=a/b"
   ]
  },
  {
   "cell_type": "markdown",
   "id": "d9da8536-8682-4660-9567-601e8e2c7824",
   "metadata": {},
   "source": [
    "c"
   ]
  },
  {
   "cell_type": "markdown",
   "id": "6524fa4d-0856-483b-82f3-9e62937c8011",
   "metadata": {},
   "source": [
    "2. modulus"
   ]
  },
  {
   "cell_type": "code",
   "execution_count": 54,
   "id": "9e604c5c-7a4b-4aef-a915-ff520c699b10",
   "metadata": {},
   "outputs": [],
   "source": [
    "a=10\n",
    "b=5\n",
    "c=a%b"
   ]
  },
  {
   "cell_type": "code",
   "execution_count": 55,
   "id": "178bdfb5-50fc-4b7c-af81-f7d02a1666e5",
   "metadata": {},
   "outputs": [
    {
     "data": {
      "text/plain": [
       "0"
      ]
     },
     "execution_count": 55,
     "metadata": {},
     "output_type": "execute_result"
    }
   ],
   "source": [
    "c"
   ]
  },
  {
   "cell_type": "markdown",
   "id": "9699a531-fcdd-406f-9121-499489569cf2",
   "metadata": {},
   "source": [
    "3. flor division"
   ]
  },
  {
   "cell_type": "code",
   "execution_count": 56,
   "id": "6eb4191b-008b-4b4c-8f01-c2c317322cd8",
   "metadata": {},
   "outputs": [],
   "source": [
    "a=10\n",
    "b=5\n",
    "c=a//b"
   ]
  },
  {
   "cell_type": "code",
   "execution_count": 57,
   "id": "b3435053-f8f0-4cea-9681-de2d548346d0",
   "metadata": {},
   "outputs": [
    {
     "data": {
      "text/plain": [
       "2"
      ]
     },
     "execution_count": 57,
     "metadata": {},
     "output_type": "execute_result"
    }
   ],
   "source": [
    "c"
   ]
  },
  {
   "cell_type": "markdown",
   "id": "8b66fd83-3020-4f67-973f-562b0e8390c3",
   "metadata": {},
   "source": [
    "4. Exponentiation"
   ]
  },
  {
   "cell_type": "raw",
   "id": "0a2f859a-96b1-49c6-8e7a-dbce56ab7957",
   "metadata": {},
   "source": [
    "2**2"
   ]
  },
  {
   "cell_type": "raw",
   "id": "d775cec6-7f5d-4372-ba6a-ac8780662159",
   "metadata": {},
   "source": [
    "Q4. Create a list of length 10 of your choice containing multiple types of data. Using for loop print the\n",
    "element and its data type."
   ]
  },
  {
   "cell_type": "code",
   "execution_count": 62,
   "id": "fb0e3501-2404-46ed-8acf-4fe26cdf9643",
   "metadata": {},
   "outputs": [
    {
     "name": "stdout",
     "output_type": "stream",
     "text": [
      "sandy <class 'str'>\n",
      "12 <class 'int'>\n",
      "12.25 <class 'float'>\n",
      "True <class 'bool'>\n",
      "False <class 'bool'>\n",
      "45 <class 'int'>\n",
      "48 <class 'int'>\n",
      "rathod <class 'str'>\n",
      "PW_ClASS <class 'str'>\n",
      "Welcome <class 'str'>\n"
     ]
    }
   ],
   "source": [
    "jio = ['sandy',12,12.25,True,False,45,48,\"rathod\",\"PW_ClASS\",\"Welcome\"]\n",
    "\n",
    "for element in jio:\n",
    "    print(element, type(element))\n"
   ]
  },
  {
   "cell_type": "raw",
   "id": "540891cf-bafe-41c5-992b-e5d1dca19bbd",
   "metadata": {},
   "source": [
    "Q5. Using a while loop, verify if the number A is purely divisible by number B and if so then how many\n",
    "times it can be divisible."
   ]
  },
  {
   "cell_type": "code",
   "execution_count": 64,
   "id": "dd0d34c0-88e2-4ca8-9715-e011f5c7aa01",
   "metadata": {},
   "outputs": [
    {
     "name": "stdout",
     "output_type": "stream",
     "text": [
      "42 is divisible by 7 exactly 6 times.\n"
     ]
    }
   ],
   "source": [
    "def count_divisions(A, B):\n",
    "    if B == 0:\n",
    "        return \"Cannot divide by zero.\"\n",
    "    \n",
    "    count = 0\n",
    "    while A >= B:\n",
    "        A -= B\n",
    "        count += 1\n",
    "        \n",
    "    return count\n",
    "\n",
    "# Test example\n",
    "A = 42\n",
    "B = 7\n",
    "\n",
    "result = count_divisions(A, B)\n",
    "\n",
    "if result is not None:\n",
    "    print(f\"{A} is divisible by {B} exactly {result} times.\")\n",
    "else:\n",
    "    print(\"Cannot divide by zero.\")\n"
   ]
  },
  {
   "cell_type": "raw",
   "id": "9931894e-4bcc-4e9b-8569-8b55532b235b",
   "metadata": {},
   "source": [
    "Create a list containing 25 int type data. Using for loop and if-else condition print if the element is\n",
    "divisible by 3 or not."
   ]
  },
  {
   "cell_type": "code",
   "execution_count": 68,
   "id": "202e32a8-b33b-461b-a37c-7de3a28b6a1c",
   "metadata": {},
   "outputs": [
    {
     "name": "stdout",
     "output_type": "stream",
     "text": [
      "1 is not divisible by 3.\n",
      "2 is not divisible by 3.\n",
      "3 is divisible by 3.\n",
      "4 is not divisible by 3.\n",
      "5 is not divisible by 3.\n",
      "6 is divisible by 3.\n",
      "7 is not divisible by 3.\n",
      "8 is not divisible by 3.\n",
      "9 is divisible by 3.\n",
      "10 is not divisible by 3.\n",
      "11 is not divisible by 3.\n",
      "12 is divisible by 3.\n",
      "13 is not divisible by 3.\n",
      "14 is not divisible by 3.\n",
      "15 is divisible by 3.\n",
      "16 is not divisible by 3.\n",
      "17 is not divisible by 3.\n",
      "18 is divisible by 3.\n",
      "19 is not divisible by 3.\n",
      "20 is not divisible by 3.\n",
      "21 is divisible by 3.\n",
      "22 is not divisible by 3.\n",
      "23 is not divisible by 3.\n",
      "24 is divisible by 3.\n",
      "25 is not divisible by 3.\n"
     ]
    }
   ],
   "source": [
    "\n",
    "for element in my_list:\n",
    "    if element % 3 == 0:\n",
    "        print(f\"{element} is divisible by 3.\")\n",
    "    else:\n",
    "        print(f\"{element} is not divisible by 3.\")\n"
   ]
  },
  {
   "cell_type": "raw",
   "id": "e04f9f45-ab30-438d-8739-a69b51997cb4",
   "metadata": {},
   "source": [
    "Mutable data types:\n",
    "Mutable data types are those whose values can be modified after they are created"
   ]
  },
  {
   "cell_type": "code",
   "execution_count": 69,
   "id": "f7150ed0-810a-4542-800a-7a2f63a59a23",
   "metadata": {},
   "outputs": [
    {
     "name": "stdout",
     "output_type": "stream",
     "text": [
      "Orignal :  [14, 15, 'sandy', 'PW_CLASS']\n",
      "[20, 15, 'sandy', 'PW_CLASS']\n"
     ]
    }
   ],
   "source": [
    "list=[14,15,\"sandy\",\"PW_CLASS\"]\n",
    "print(\"Orignal : \",list)\n",
    "list[0]=20\n",
    "print(list)"
   ]
  },
  {
   "cell_type": "markdown",
   "id": "3f003642-0e48-4501-9e7c-fca8e5fef451",
   "metadata": {},
   "source": [
    "Immutable data:\n",
    "Immutable data types, on the other hand, are those whose values cannot be changed after they are created"
   ]
  },
  {
   "cell_type": "code",
   "execution_count": 67,
   "id": "1d512471-eb57-4a8c-835b-45a8d368cfab",
   "metadata": {},
   "outputs": [
    {
     "name": "stdout",
     "output_type": "stream",
     "text": [
      "original PWCLASS\n"
     ]
    },
    {
     "ename": "TypeError",
     "evalue": "'str' object does not support item assignment",
     "output_type": "error",
     "traceback": [
      "\u001b[0;31m---------------------------------------------------------------------------\u001b[0m",
      "\u001b[0;31mTypeError\u001b[0m                                 Traceback (most recent call last)",
      "Cell \u001b[0;32mIn[67], line 3\u001b[0m\n\u001b[1;32m      1\u001b[0m l1\u001b[38;5;241m=\u001b[39m\u001b[38;5;124m\"\u001b[39m\u001b[38;5;124mPWCLASS\u001b[39m\u001b[38;5;124m\"\u001b[39m\n\u001b[1;32m      2\u001b[0m \u001b[38;5;28mprint\u001b[39m(\u001b[38;5;124m\"\u001b[39m\u001b[38;5;124moriginal\u001b[39m\u001b[38;5;124m\"\u001b[39m,l1)\n\u001b[0;32m----> 3\u001b[0m \u001b[43ml1\u001b[49m\u001b[43m[\u001b[49m\u001b[38;5;241;43m0\u001b[39;49m\u001b[43m]\u001b[49m\u001b[38;5;241m=\u001b[39m\u001b[38;5;124m\"\u001b[39m\u001b[38;5;124mK\u001b[39m\u001b[38;5;124m\"\u001b[39m\n\u001b[1;32m      4\u001b[0m \u001b[38;5;28mprint\u001b[39m(l1)\n",
      "\u001b[0;31mTypeError\u001b[0m: 'str' object does not support item assignment"
     ]
    }
   ],
   "source": [
    "l1=\"PWCLASS\"\n",
    "print(\"original\",l1)\n",
    "l1[0]=\"K\"\n",
    "print(l1)"
   ]
  },
  {
   "cell_type": "code",
   "execution_count": null,
   "id": "9214d0b6-4b9b-4bb3-af8d-339d72920b91",
   "metadata": {},
   "outputs": [],
   "source": []
  }
 ],
 "metadata": {
  "kernelspec": {
   "display_name": "Python 3 (ipykernel)",
   "language": "python",
   "name": "python3"
  },
  "language_info": {
   "codemirror_mode": {
    "name": "ipython",
    "version": 3
   },
   "file_extension": ".py",
   "mimetype": "text/x-python",
   "name": "python",
   "nbconvert_exporter": "python",
   "pygments_lexer": "ipython3",
   "version": "3.10.8"
  }
 },
 "nbformat": 4,
 "nbformat_minor": 5
}
