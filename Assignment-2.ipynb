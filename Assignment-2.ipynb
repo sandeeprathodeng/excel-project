{
 "cells": [
  {
   "cell_type": "raw",
   "id": "e909a880-b0df-4003-b510-6897fc4ca91d",
   "metadata": {},
   "source": [
    "How do you comment code in Python? What are the different types of comments?"
   ]
  },
  {
   "cell_type": "raw",
   "id": "93fb568c-e173-48f4-b0eb-ffb993b9631a",
   "metadata": {},
   "source": [
    "their are two types of comment 1. single line comment 2. multipal liine comment  "
   ]
  },
  {
   "cell_type": "code",
   "execution_count": 53,
   "id": "be5075f0-ded3-4734-a9c7-a2c3fe0eee23",
   "metadata": {},
   "outputs": [],
   "source": [
    "#this is single line comment "
   ]
  },
  {
   "cell_type": "code",
   "execution_count": 54,
   "id": "41492419-ba61-43d3-8d7b-7ca7d7ad0230",
   "metadata": {},
   "outputs": [
    {
     "data": {
      "text/plain": [
       "' this is multiple \\nline comment '"
      ]
     },
     "execution_count": 54,
     "metadata": {},
     "output_type": "execute_result"
    }
   ],
   "source": [
    "\"\"\" this is multiple \n",
    "line comment \"\"\""
   ]
  },
  {
   "cell_type": "raw",
   "id": "978da56b-f931-4c14-a1f5-5116d61af892",
   "metadata": {},
   "source": [
    "Q2. What are variables in Python? How do you declare and assign values to variables?"
   ]
  },
  {
   "cell_type": "raw",
   "id": "4f240b4e-f7f6-43c4-87c0-6175822fea3c",
   "metadata": {},
   "source": [
    "their are two types of variable 1. local variable 2. global variable"
   ]
  },
  {
   "cell_type": "code",
   "execution_count": 55,
   "id": "b44776bf-ecb4-40c9-ae36-608682f4395f",
   "metadata": {},
   "outputs": [
    {
     "name": "stdout",
     "output_type": "stream",
     "text": [
      "sandy\n"
     ]
    }
   ],
   "source": [
    "#fisrt example local variable\n",
    "\n",
    "x=\"sandy\"\n",
    "print(x)"
   ]
  },
  {
   "cell_type": "code",
   "execution_count": 56,
   "id": "bc728a63-6bea-436c-8c82-8054066a5bd4",
   "metadata": {},
   "outputs": [
    {
     "name": "stdout",
     "output_type": "stream",
     "text": [
      "Pw is a class\n"
     ]
    }
   ],
   "source": [
    "def jio():\n",
    "    x=\"class\"\n",
    "    print(\"Pw is a \" + x)\n",
    "\n",
    "jio()"
   ]
  },
  {
   "cell_type": "code",
   "execution_count": 57,
   "id": "ea8f9d8f-055a-4c82-9414-7da24fef8ddb",
   "metadata": {},
   "outputs": [
    {
     "name": "stdout",
     "output_type": "stream",
     "text": [
      "Pw is a class\n"
     ]
    }
   ],
   "source": [
    "# this is Global Variable \n",
    "x=\"class\"\n",
    "def jio():\n",
    "    \n",
    "    print(\"Pw is a \" + x)\n",
    "\n",
    "jio()"
   ]
  },
  {
   "cell_type": "raw",
   "id": "9a226b3a-90f2-481b-92a8-e434cd390fc1",
   "metadata": {},
   "source": [
    "Q3. How do you convert one data type to another in Python?"
   ]
  },
  {
   "cell_type": "code",
   "execution_count": 58,
   "id": "667a8d21-b0f0-4eb5-9ac1-3a15c3f8e842",
   "metadata": {},
   "outputs": [
    {
     "name": "stdout",
     "output_type": "stream",
     "text": [
      "<class 'int'>\n",
      "<class 'float'>\n"
     ]
    }
   ],
   "source": [
    "num=15\n",
    "num1=float(num)\n",
    "print(type(num))\n",
    "print(type(num1))"
   ]
  },
  {
   "cell_type": "raw",
   "id": "e47b4cdf-fd32-4a7a-9ad2-3ae660c5ba75",
   "metadata": {},
   "source": [
    "Q4. How do you write and execute a Python script from the command line?"
   ]
  },
  {
   "cell_type": "raw",
   "id": "5c94e16e-f8d3-4a19-a759-a57286417db8",
   "metadata": {},
   "source": [
    " command followed by the full file name with the file extension will run the python file in the terminal"
   ]
  },
  {
   "cell_type": "raw",
   "id": "c993f722-89b8-4d03-ad98-6a9cc1f3973b",
   "metadata": {},
   "source": [
    "Q5. Given a list my_list = [1, 2, 3, 4, 5], write the code to slice the list and obtain the sub-list [2, 3]."
   ]
  },
  {
   "cell_type": "code",
   "execution_count": 59,
   "id": "d5c7f533-bc94-4991-b9ed-5d6cbcbb82cb",
   "metadata": {},
   "outputs": [
    {
     "data": {
      "text/plain": [
       "[2, 3]"
      ]
     },
     "execution_count": 59,
     "metadata": {},
     "output_type": "execute_result"
    }
   ],
   "source": [
    "my_list = [1, 2, 3, 4, 5]\n",
    "my_list[1:3]"
   ]
  },
  {
   "cell_type": "raw",
   "id": "5c6b71cb-7bbe-4d31-b4ce-a79efbc953e1",
   "metadata": {},
   "source": [
    "Q6. What is a complex number in mathematics, and how is it represented in Python?"
   ]
  },
  {
   "cell_type": "raw",
   "id": "8db55f8f-729c-49c8-98dc-1d32ab023d42",
   "metadata": {},
   "source": [
    "complex number means real and imaginary number in pythin 4+5j"
   ]
  },
  {
   "cell_type": "raw",
   "id": "d51f175c-ddbb-4b0b-8116-5ae386e7aa1d",
   "metadata": {},
   "source": [
    "Q7. What is the correct way to declare a variable named age and assign the value 25 to it?"
   ]
  },
  {
   "cell_type": "code",
   "execution_count": 60,
   "id": "fb3b853c-c75c-4baa-85a1-01fdc402441a",
   "metadata": {},
   "outputs": [],
   "source": [
    "age=25"
   ]
  },
  {
   "cell_type": "raw",
   "id": "6d539855-7b78-4b8a-b52b-876494f0cee4",
   "metadata": {},
   "source": [
    "Q8. Declare a variable named price and assign the value 9.99 to it. What data type does this variable\n",
    "belong to?"
   ]
  },
  {
   "cell_type": "code",
   "execution_count": 61,
   "id": "e63b8003-4af6-4461-b292-66752e5efae8",
   "metadata": {},
   "outputs": [],
   "source": [
    "price=9.99\n",
    "# data type is float "
   ]
  },
  {
   "cell_type": "raw",
   "id": "6fef31a1-0fae-4a8c-887c-cff575638abd",
   "metadata": {},
   "source": [
    "Q9. Create a variable named name and assign your full name to it as a string. How would you print the\n",
    "value of this variable?"
   ]
  },
  {
   "cell_type": "code",
   "execution_count": 62,
   "id": "d1de3ac7-603f-4f85-bf85-f2e62b061ce2",
   "metadata": {},
   "outputs": [
    {
     "name": "stdout",
     "output_type": "stream",
     "text": [
      "Sandeep Gulab Rathod\n"
     ]
    }
   ],
   "source": [
    "name=\"Sandeep Gulab Rathod\"\n",
    "print(name)"
   ]
  },
  {
   "cell_type": "raw",
   "id": "33b54449-1c87-4c71-a135-c76703fe3257",
   "metadata": {},
   "source": [
    "Q10. Given the string \"Hello, World!\", extract the substring \"World\"."
   ]
  },
  {
   "cell_type": "code",
   "execution_count": 63,
   "id": "d8e0b26c-4559-4ce6-a77b-f8b9188e60ed",
   "metadata": {},
   "outputs": [
    {
     "data": {
      "text/plain": [
       "'World'"
      ]
     },
     "execution_count": 63,
     "metadata": {},
     "output_type": "execute_result"
    }
   ],
   "source": [
    "k=\"Hello, World!\"\n",
    "k[7:12]"
   ]
  },
  {
   "cell_type": "raw",
   "id": "db1ab1f4-a714-4418-a96a-7f89772926b4",
   "metadata": {},
   "source": [
    "Q11. Create a variable named \"is_student\" and assign it a boolean value indicating whether you are\n",
    "currently a student or not."
   ]
  },
  {
   "cell_type": "code",
   "execution_count": 64,
   "id": "a7bd0fae-068d-4f1e-8ee8-88ef9e2f8816",
   "metadata": {},
   "outputs": [],
   "source": [
    "is_student= False"
   ]
  },
  {
   "cell_type": "code",
   "execution_count": 65,
   "id": "bc42fc3f-a186-4c87-86ab-d2fe62b7f498",
   "metadata": {},
   "outputs": [
    {
     "name": "stdout",
     "output_type": "stream",
     "text": [
      "False\n"
     ]
    }
   ],
   "source": [
    "print(is_student)"
   ]
  },
  {
   "cell_type": "code",
   "execution_count": null,
   "id": "47c6e83f-2efd-40cb-895f-615a9e524c52",
   "metadata": {},
   "outputs": [],
   "source": []
  }
 ],
 "metadata": {
  "kernelspec": {
   "display_name": "Python 3 (ipykernel)",
   "language": "python",
   "name": "python3"
  },
  "language_info": {
   "codemirror_mode": {
    "name": "ipython",
    "version": 3
   },
   "file_extension": ".py",
   "mimetype": "text/x-python",
   "name": "python",
   "nbconvert_exporter": "python",
   "pygments_lexer": "ipython3",
   "version": "3.10.8"
  }
 },
 "nbformat": 4,
 "nbformat_minor": 5
}
